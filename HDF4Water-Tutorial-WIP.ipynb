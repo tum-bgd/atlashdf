{
 "cells": [
  {
   "cell_type": "code",
   "execution_count": 2,
   "id": "d50f23bc",
   "metadata": {},
   "outputs": [],
   "source": [
    "# import h5py\n",
    "import atlashdf"
   ]
  },
  {
   "cell_type": "code",
   "execution_count": 3,
   "id": "6cb3b73b",
   "metadata": {},
   "outputs": [],
   "source": [
    "inputfile=\"data/guinea-bissau-latest.osm.pbf\""
   ]
  },
  {
   "cell_type": "code",
   "execution_count": 4,
   "id": "59ac9982",
   "metadata": {},
   "outputs": [],
   "source": [
    "x = atlashdf.AtlasHDF();"
   ]
  },
  {
   "cell_type": "code",
   "execution_count": 5,
   "id": "ef1d2dcc",
   "metadata": {},
   "outputs": [],
   "source": [
    "attribute_selection_query=\"\"\"\n",
    "{\"iswater\":(.waterway != null or .natural == \"water\" or .natural == \"wetland\" or .water != null or .landuse==\"water\" or .landcover==\"water\")} \n",
    "\"\"\"\n",
    "\n",
    "object_filter=\"\"\"\n",
    "select(.iswater)\n",
    "\"\"\"\n"
   ]
  },
  {
   "cell_type": "code",
   "execution_count": 6,
   "id": "57972a4a",
   "metadata": {},
   "outputs": [
    {
     "name": "stdout",
     "output_type": "stream",
     "text": [
      "ChunkedOSMImmediateWriter\n",
      "Activating a JQrunner for nodes with \n",
      "{\"iswater\":(.waterway != null or .natural == \"water\" or .natural == \"wetland\" or .water != null or .landuse==\"water\" or .landcover==\"water\")} \n",
      "\n",
      "Activating a JQrunner for ways with \n",
      "{\"iswater\":(.waterway != null or .natural == \"water\" or .natural == \"wetland\" or .water != null or .landuse==\"water\" or .landcover==\"water\")} \n",
      "\n",
      "Activating a JQrunner for relations with \n",
      "{\"iswater\":(.waterway != null or .natural == \"water\" or .natural == \"wetland\" or .water != null or .landuse==\"water\" or .landcover==\"water\")} \n",
      "\n",
      "\u001b[32m[INFO] Reading the file data/guinea-bissau-latest.osm.pbf\u001b[0m\n",
      "\u001b[32m[INFO] We finished reading the file\u001b[0m\n",
      "Resolving geometries using earcut\n",
      "Resolving ways...\n",
      "Node count: 1456454\n",
      "Way count: 98433\n",
      "Progress: 0\r",
      "Progress: 0.172706\r",
      "Progress: 0.515071\r",
      "Progress: 0.523199\r",
      "Progress: 0.527262\r",
      "Progress: 0.658316\r",
      "Progress: 0.662379\r",
      "Progress: 0.710128\r",
      "Progress: 0.711144\r",
      "Progress: 0.763971\r",
      "Progress: 0.764987\r",
      "Progress: 0.766003\r",
      "Progress: 0.767019\r",
      "Progress: 0.894009\r",
      "Progress: 0.921439\r",
      "Progress: 0.970203\r",
      "Resolving relations...\n",
      "Way count: 98433\n",
      "Relation count: 1248\n"
     ]
    }
   ],
   "source": [
    "x = (x.set_container(\"guinea-water-earcut.h5\")\n",
    "     .set_filter(\"nodes\",attribute_selection_query)\n",
    "     .set_filter(\"ways\",attribute_selection_query) \n",
    "     .set_filter(\"relations\",attribute_selection_query)\n",
    "     .import_immediate(inputfile)\n",
    "     .clear_filters()\n",
    "     .set_filter(\"ways\",object_filter)\n",
    "     .resolve(\"earcut\")#\"earcut\")\n",
    "     )"
   ]
  },
  {
   "cell_type": "code",
   "execution_count": null,
   "id": "ae50296f",
   "metadata": {},
   "outputs": [],
   "source": []
  }
 ],
 "metadata": {
  "kernelspec": {
   "display_name": "Python 3 (ipykernel)",
   "language": "python",
   "name": "python3"
  },
  "language_info": {
   "codemirror_mode": {
    "name": "ipython",
    "version": 3
   },
   "file_extension": ".py",
   "mimetype": "text/x-python",
   "name": "python",
   "nbconvert_exporter": "python",
   "pygments_lexer": "ipython3",
   "version": "3.7.3"
  }
 },
 "nbformat": 4,
 "nbformat_minor": 5
}
