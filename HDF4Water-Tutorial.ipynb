{
 "cells": [
  {
   "attachments": {},
   "cell_type": "markdown",
   "metadata": {},
   "source": [
    "# HDF4Water - Tutorial\n",
    "\n",
    "This jupyter notebook contains a tutorial elaborating how to leverage AtlasHDF for a specific domain example that is to classify water bodies in the region of Oberbayern."
   ]
  },
  {
   "attachments": {},
   "cell_type": "markdown",
   "metadata": {},
   "source": [
    "## Data\n",
    "\n",
    "The data is currently hosted on the TUM NAS under `/tulr/bgd/paper/2023_HDF4Water_Teuscher`. For this notebook to work copy the content of the `data` folder into `./data`.\n",
    "\n",
    "The file `./data/oberbayern-water-triangles.h5` contains triangualted water areas extracted from Open Street Map (OSM) with the following jq filter applied on the relations:\n",
    "\n",
    "```bash\n",
    "select(.waterway != null or .natural == \"water\" or .water != null or .landuse==\"water\" or .landcover==\"water\")|.\n",
    "```\n"
   ]
  },
  {
   "cell_type": "code",
   "execution_count": 7,
   "metadata": {},
   "outputs": [
    {
     "name": "stdout",
     "output_type": "stream",
     "text": [
      "Existing datasets of the osm group:\n",
      " - relations_triangles\n",
      " - relations_triangles_idx\n",
      " - ways_triangles\n",
      " - ways_triangles_idx\n"
     ]
    }
   ],
   "source": [
    "import h5py\n",
    "\n",
    "f = h5py.File(\"./data/oberbayern-water-triangles.h5\")\n",
    "\n",
    "print(\"Existing datasets of the osm group:\")\n",
    "for key in f[\"osm\"].keys():\n",
    "    print(\" - {}\".format(key))\n"
   ]
  }
 ],
 "metadata": {
  "kernelspec": {
   "display_name": "base",
   "language": "python",
   "name": "python3"
  },
  "language_info": {
   "codemirror_mode": {
    "name": "ipython",
    "version": 3
   },
   "file_extension": ".py",
   "mimetype": "text/x-python",
   "name": "python",
   "nbconvert_exporter": "python",
   "pygments_lexer": "ipython3",
   "version": "3.9.12"
  },
  "orig_nbformat": 4,
  "vscode": {
   "interpreter": {
    "hash": "95655ca2a400dd7eafe19fcec5e6089d3a3703ed5a4b2ffee3d25aba7568a459"
   }
  }
 },
 "nbformat": 4,
 "nbformat_minor": 2
}
